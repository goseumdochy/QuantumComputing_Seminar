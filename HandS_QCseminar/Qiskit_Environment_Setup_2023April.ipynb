{
 "cells": [
  {
   "cell_type": "markdown",
   "id": "9c08329b",
   "metadata": {},
   "source": [
    "# Anaconda 및 Qiskit 업데이트 및 설치 가이드라인\n"
   ]
  },
  {
   "cell_type": "markdown",
   "id": "ab4368c7",
   "metadata": {},
   "source": [
    "#### 1. Anaconda 설치\n",
    "[링크](https://www.anaconda.com/)에 접속하여 anaconda를 설치합니다. 각자 사용하는 os에 맞는 것을 설치하시면 됩니다. Anaconda 설치 경로에 한글이 있으면 안 되었던 것으로 기억합니다. 또한 설치과정에서 체크박스에 체크하는 것들이 있는데 전부 default로 선택되어 있는 대로 설치하시면 됩니다.\n",
    "\n",
    "Anaconda는 가상환경을 만들어서 가상환경마다 **독립적인 패키지 버전 관리**가 가능하기에 유용합니다.\n",
    "\n",
    "아나콘다 설치 후 가상환경을 따로 만들지 않은 경우 base 환경이라고 표현합니다."
   ]
  },
  {
   "cell_type": "markdown",
   "id": "b384fb24",
   "metadata": {},
   "source": [
    "#### 2. Anaconda prompt(Anaconda cmd) 실행하기\n",
    "Anaconda 설치가 완료되었다면 anacodna prompt를 실행하여 줍니다. 아래는 anaconda prompt 실행시켰을 때 나오는 창입니다.\n",
    "\n",
    "![anaconda cmd](img/img1.png)\n",
    "\n",
    "(base)는 현재 가상환경이 기본 환경인 base라는 것이고 C:\\Users\\Goseumdochy는 현재 위치한 디렉토리를 의미합니다. 저의 user name이 Goseumdochy로 설정되어 있기에 이렇게 나오는 것이고 시작 디렉토리 위치는 사용자마다 다릅니다."
   ]
  },
  {
   "cell_type": "markdown",
   "id": "6e9749bf",
   "metadata": {},
   "source": [
    "#### 3. 코드 파일을 저장할 디렉토리 만들고 디렉토리 이동하기\n",
    "cmd에 익숙하신 분들은 편하신대로 실습을 진행할 디렉토리를 만들어 주셔도 좋습니다. cmd에 익숙하지 않으신 분들은 아래의 설명을 읽고 따라해 주시면 됩니다. 이 과정에서 다음의 명령어 2개를 사용합니다.\n",
    "\n",
    "cd <디렉토리> : 디렉토리 이동\n",
    "\n",
    "mkdir <디렉토리 이름> : 디렉토리 생성\n",
    "\n",
    "다음은 예시 명령어입니다.\n",
    "\n",
    "![create directory](img/img2.png)\n",
    "\n",
    "`cd Documents:` 현재 위치한 디렉토리 C:\\Users\\Goseumdochy의 하위 디렉토리인 Documents로 이동합니다. 이 명령어를 입력하시고 enter키를 누르시면 됩니다. 두번째 줄을 보시면 C:\\Users\\Goseumdochy\\Documents로 현재 위치한 디렉토리가 바뀌었음을 알 수 있습니다.\n",
    "\n",
    "`mkdir Myproject:` 현재 위치한 디렉토리에 Myproject라는 이름의 디렉토리를 생성합니다. 이름은 자유롭게 설정하시면 됩니다. 저는 앞으로 **QCseminar**라는 디렉토리에서 코드를 실행할 예정입니다. 예시 명령어대로 입력하시는 분들은 ‘Documents’ 디렉토리 안에 Myproject라는 디렉토리가 생긴 것을 확인하실 수 있습니다.\n",
    "\n",
    "`cd Myproject:` 현재 위치한 디렉토리에 새로 만든 하위 디렉토리인 Myproject로 디렉토리 이동을 합니다."
   ]
  },
  {
   "cell_type": "markdown",
   "id": "39c148ad",
   "metadata": {},
   "source": [
    "#### 4. 가상환경 만들기\n",
    "가상환경 만드는 과정은 [qiskit documentation](https://qiskit.org/documentation/getting_started.html)을 참고하셔도 되고 밑에 제가 써놓은 설치방식을 따라서 해주셔도 됩니다. 아래는 제가 양자컴퓨팅 관련 코딩할 때 쓰는 가상환경 설정 방법입니다. 2023년 3월 기준으로 runtime이 qiskit[all]에 포함되지 않았기에 아래와 같이 진행하였습니다. Qiskit 패키지는 매우 자주 업데이트 되기에 Qiskit documentation을 자주 확인해주시는 것을 추천드립니다.\n",
    "\n",
    "가상환경 만드는 명령어는 아래와 같습니다.\n",
    "\n",
    "`conda create -n ENV_NAME python=3`\n",
    "\n",
    "예시 코드는 아래와 같습니다.\n",
    "\n",
    "`conda create -n qiskit_seminar python=3`\n",
    "![create virtual environment](img/img3.png)\n",
    "\n",
    "qiskit_seminar 라는 이름을 가진 가상환경을 만드는 명령어입니다. 이 명령어를 입력하시고 enter키를 누르시면 cmd 창에 글자들이 계속 나타나다가 \"Proceed ([y]/n_?\" 과 같은 문구가 나오게 됩니다. 이 때 그냥 enter키를 누르셔도 되고 y를 입력하고 enter키를 누르셔도 됩니다.\n",
    "\n",
    "그 후 기다리시면 prompt에\n",
    "\n",
    "done\n",
    "\n",
    "To activate this environment, use\n",
    "\n",
    "$ conda activate qiskit_seminar\n",
    "\n",
    "To deactivate an activate environment, use\n",
    "\n",
    "$ conda deactivate\n",
    "\n",
    "라는 글이 나탑니다.\n",
    "\n",
    "가상환경이 잘 만들어졌는지 확인하여 보겠습니다. 만들어진 가상환경 리스트를 보여주는 아래의 명령어를 입력해주세요.\n",
    "\n",
    "`conda env list`\n",
    "\n",
    "그러면 가상환경 리스트가 나올 것입니다. 그 중에 qiskit_seminar가 있다면 가상환경이 잘 만들어진 것입니다.\n",
    "\n",
    "![env list](img/img4.png)"
   ]
  },
  {
   "cell_type": "markdown",
   "id": "e828e9ea",
   "metadata": {},
   "source": [
    "#### 5. 가상환경 활성화시키기\n",
    "이제 가상환경은 만들어졌습니다. 그럼 가상환경을 알맞게 설정하기 위해서는 qiskit_seminar 가상환경을 활성화시켜야 합니다.\n",
    "\n",
    "가상환경을 활성화시키는 명령어는 아래와 같습니다.\n",
    "\n",
    "`conda activate ENV_NAME`\n",
    "\n",
    "이를 이용한 예시 명령어는 아래와 같습니다.\n",
    "\n",
    "`conda activate qiskit_seminar`\n",
    "\n",
    "![activation](img/img5.png)\n",
    "\n",
    "명령어를 실행하시면 위의 사진과 같이 됩니다. qiskit_seminar를 활성화시키니 line의 가장 앞의 (base)가 이제는 (qiskit_seminar)로 바뀐 것을 확인할 수 있습니다."
   ]
  },
  {
   "cell_type": "markdown",
   "id": "2d4563b6",
   "metadata": {},
   "source": [
    "#### 6. 가상환경 세팅하기\n",
    "\n",
    "이제 가상환경을 qiskit을 실행시킬 수 있는 환경이 되도록 해주어야 합니다. 다음의 명령어들을 입력해주세요.\n",
    "\n",
    "6-1 주피터 노트북 설치\n",
    "\n",
    "`conda install jupyter notebook`\n",
    "\n",
    "6-2 qiskit_ibm_provider 설치\n",
    "\n",
    "`pip install qiskit qiskit_ibm_provider`\n",
    "\n",
    "6-3 qiskit-ibm-runtime 설치\n",
    "\n",
    "`pip install qiskit-ibm-runtime`\n",
    "\n",
    "6-4 Qiskit 설치 (머신러닝, 파이낸스 등 모든 라이브러리 한번에 설치)\n",
    "\n",
    "`pip install qiskit[all]`"
   ]
  },
  {
   "cell_type": "markdown",
   "id": "d6941d54",
   "metadata": {},
   "source": [
    "#### 7. jupyter notebook 실행시키기\n",
    "현재 위치한 디렉토리가 여러분이 파이썬 파일을 저장하고 싶은 디렉토리가 맞는지 확인하시고 (저의 경우에는 C;\\Users\\Goseumdochy\\Documents\\QCseminar 디렉토리)주피터 노트북을 실행시키는 아래의 명령어를 입력하시면 됩니다.\n",
    "\n",
    "`jupyter notebook`\n",
    "\n",
    "![jupyter notebook](img/img6.png)\n",
    "\n",
    "명령어를 입력하고 나서 기다리시면 아래의 그림과 같은 창이 웹 브라우저에 나타나게 됩니다.\n",
    "\n",
    "![web](img/img7.png)"
   ]
  },
  {
   "cell_type": "markdown",
   "id": "0ad88e1b",
   "metadata": {},
   "source": [
    "#### 8. 파이썬 파일 만들기\n",
    "\n",
    "![web](img/img7.png)\n",
    "\n",
    "여기서 오른쪽의 New를 클릭해주시고 Python3를 클릭해주시면 아래의 그림과 같은 markdown 형식의 창이 나타나게 됩니다.\n",
    "\n",
    "![markdown](img/img8.png)\n",
    "\n",
    "다음과 같이 입력해주세요\n",
    "\n",
    "`import qiskit.tools.jupyter`\n",
    "\n",
    "`%qiskit_version_table`\n",
    "\n",
    "`%qiskit_copyright`\n",
    "\n",
    "코드를 전부 입력하신 후 shift+enter를 눌러주셨을 때 아래와 같은 모습이 되면 모든 세팅이 끝났습니다."
   ]
  },
  {
   "cell_type": "markdown",
   "id": "fa1c657e",
   "metadata": {},
   "source": [
    "![setting_test](img/img9.png)"
   ]
  },
  {
   "cell_type": "code",
   "execution_count": 2,
   "id": "0ff70caf",
   "metadata": {},
   "outputs": [
    {
     "data": {
      "text/html": [
       "<h3>Version Information</h3><table><tr><th>Qiskit Software</th><th>Version</th></tr><tr><td><code>qiskit-terra</code></td><td>0.23.3</td></tr><tr><td><code>qiskit-aer</code></td><td>0.12.0</td></tr><tr><td><code>qiskit-ibmq-provider</code></td><td>0.20.2</td></tr><tr><td><code>qiskit</code></td><td>0.42.1</td></tr><tr><td><code>qiskit-nature</code></td><td>0.6.0</td></tr><tr><td><code>qiskit-finance</code></td><td>0.3.4</td></tr><tr><td><code>qiskit-optimization</code></td><td>0.5.0</td></tr><tr><td><code>qiskit-machine-learning</code></td><td>0.6.0</td></tr><tr><th>System information</th></tr><tr><td>Python version</td><td>3.11.3</td></tr><tr><td>Python compiler</td><td>MSC v.1916 64 bit (AMD64)</td></tr><tr><td>Python build</td><td>main, Apr 19 2023 23:46:34</td></tr><tr><td>OS</td><td>Windows</td></tr><tr><td>CPUs</td><td>8</td></tr><tr><td>Memory (Gb)</td><td>7.247257232666016</td></tr><tr><td colspan='2'>Fri Apr 28 20:17:12 2023 대한민국 표준시</td></tr></table>"
      ],
      "text/plain": [
       "<IPython.core.display.HTML object>"
      ]
     },
     "metadata": {},
     "output_type": "display_data"
    },
    {
     "data": {
      "text/html": [
       "<div style='width: 100%; background-color:#d5d9e0;padding-left: 10px; padding-bottom: 10px; padding-right: 10px; padding-top: 5px'><h3>This code is a part of Qiskit</h3><p>&copy; Copyright IBM 2017, 2023.</p><p>This code is licensed under the Apache License, Version 2.0. You may<br>obtain a copy of this license in the LICENSE.txt file in the root directory<br> of this source tree or at http://www.apache.org/licenses/LICENSE-2.0.<p>Any modifications or derivative works of this code must retain this<br>copyright notice, and modified files need to carry a notice indicating<br>that they have been altered from the originals.</p></div>"
      ],
      "text/plain": [
       "<IPython.core.display.HTML object>"
      ]
     },
     "metadata": {},
     "output_type": "display_data"
    }
   ],
   "source": [
    "import qiskit.tools.jupyter\n",
    "%qiskit_version_table\n",
    "%qiskit_copyright"
   ]
  }
 ],
 "metadata": {
  "kernelspec": {
   "display_name": "Python 3 (ipykernel)",
   "language": "python",
   "name": "python3"
  },
  "language_info": {
   "codemirror_mode": {
    "name": "ipython",
    "version": 3
   },
   "file_extension": ".py",
   "mimetype": "text/x-python",
   "name": "python",
   "nbconvert_exporter": "python",
   "pygments_lexer": "ipython3",
   "version": "3.11.3"
  }
 },
 "nbformat": 4,
 "nbformat_minor": 5
}
