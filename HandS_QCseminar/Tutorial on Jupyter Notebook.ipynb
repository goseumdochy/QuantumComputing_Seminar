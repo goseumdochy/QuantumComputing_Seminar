{
 "cells": [
  {
   "cell_type": "markdown",
   "id": "bea30faa",
   "metadata": {},
   "source": [
    "# Tutorial on Jupyter Notebook\n",
    "\n",
    "## For the summary keyboard shortcuts, use `Help` $\\rightarrow$ `Keyboard shorcuts`\n",
    "\n",
    "## Modes\n",
    "\n",
    "### Command Mode (press `Esc` to switch to command mode)\n",
    "- Add a new cell: press `a` or `b` $\\rightarrow$ insert \n",
    "- Delete selectec cells: press `d` `d`\n",
    "\n",
    "### Edit Mode (press `Enter` to switch to edit mode)\n",
    "\n",
    "## Press `Shift-Enter` to run the cell or reflect the change"
   ]
  },
  {
   "cell_type": "markdown",
   "id": "714a92ad",
   "metadata": {},
   "source": [
    "## Cell types\n",
    "### Code cell type(\"Y\"key changes cell to Code type)\n",
    "- Regular executable code\n",
    "### Markdown cell type (\"M\" key changes cell to Markdown type)\n",
    "- Similar to  HTML\n",
    "- Surround latex equation with `$`\n",
    "- Example: $\\frac{1}{2}$, $|\\Psi\\rangle$"
   ]
  },
  {
   "cell_type": "markdown",
   "id": "0cdd1385",
   "metadata": {},
   "source": [
    "### Raw cell type"
   ]
  }
 ],
 "metadata": {
  "kernelspec": {
   "display_name": "Python 3 (ipykernel)",
   "language": "python",
   "name": "python3"
  },
  "language_info": {
   "codemirror_mode": {
    "name": "ipython",
    "version": 3
   },
   "file_extension": ".py",
   "mimetype": "text/x-python",
   "name": "python",
   "nbconvert_exporter": "python",
   "pygments_lexer": "ipython3",
   "version": "3.11.3"
  }
 },
 "nbformat": 4,
 "nbformat_minor": 5
}
