{
 "cells": [
  {
   "cell_type": "markdown",
   "id": "9c08329b",
   "metadata": {},
   "source": [
    "# Anaconda 및 Qiskit 업데이트 및 설치 가이드라인\n"
   ]
  },
  {
   "cell_type": "markdown",
   "id": "ab4368c7",
   "metadata": {},
   "source": [
    "#### 1. Anaconda 설치\n",
    "[링크](https://www.anaconda.com/)에 접속하여 anaconda를 설치합니다. 각자 사용하는 os에 맞는 것을 설치하시면 됩니다. Anaconda 설치 경로에 한글이 있으면 안 되었던 것으로 기억합니다. 또한 설치과정에서 체크박스에 체크하는 것들이 있는데 전부 default로 선택되어 있는 대로 설치하시면 됩니다.\n",
    "\n",
    "Anaconda는 가상환경을 만들어서 가상환경마다 **독립적인 패키지 버전 관리**가 가능하기에 유용합니다.\n",
    "\n",
    "아나콘다 설치 후 가상환경을 따로 만들지 않은 경우 base 환경이라고 표현합니다."
   ]
  },
  {
   "cell_type": "markdown",
   "id": "b384fb24",
   "metadata": {},
   "source": [
    "#### 2. Anaconda prompt(Anaconda cmd) 실행하기\n",
    "Anaconda 설치가 완료되었다면 anacodna prompt를 실행하여 줍니다. 아래는 anaconda prompt 실행시켰을 때 나오는 창입니다.\n",
    "\n",
    "![anaconda cmd](img/img1.png)\n",
    "\n",
    "(base)는 현재 가상환경이 기본 환경인 base라는 것이고 C:\\Users\\Goseumdochy는 현재 위치한 디렉토리를 의미합니다. 저의 user name이 Goseumdochy로 설정되어 있기에 이렇게 나오는 것이고 시작 디렉토리 위치는 사용자마다 다릅니다."
   ]
  },
  {
   "cell_type": "markdown",
   "id": "6e9749bf",
   "metadata": {},
   "source": [
    "#### 3. 코드 파일을 저장할 디렉토리 만들고 디렉토리 이동하기\n",
    "cmd에 익숙하신 분들은 편하신대로 실습을 진행할 디렉토리를 만들어 주셔도 좋습니다. cmd에 익숙하지 않으신 분들은 아래의 설명을 읽고 따라해 주시면 됩니다. 이 과정에서 다음의 명령어 2개를 사용합니다.\n",
    "\n",
    "cd <디렉토리> : 디렉토리 이동\n",
    "\n",
    "mkdir <디렉토리 이름> : 디렉토리 생성\n",
    "\n",
    "다음은 예시 명령어입니다.\n",
    "\n",
    "![create directory](img/img2.png)\n",
    "\n",
    "`cd Documents`: 현재 위치한 디렉토리 C:\\Users\\Goseumdochy의 하위 디렉토리인 Documents로 이동합니다. 이 명령어를 입력하시고 enter키를 누르시면 됩니다. 두번째 줄을 보시면 C:\\Users\\Goseumdochy\\Documents로 현재 위치한 디렉토리가 바뀌었음을 알 수 있습니다.\n",
    "\n",
    "`mkdir Myproject`: 현재 위치한 디렉토리에 Myproject라는 이름의 디렉토리를 생성합니다. 이름은 자유롭게 설정하시면 됩니다. 저는 앞으로 **QCseminar**라는 디렉토리에서 코드를 실행할 예정입니다. 예시 명령어대로 입력하시는 분들은 ‘Documents’ 디렉토리 안에 Myproject라는 디렉토리가 생긴 것을 확인하실 수 있습니다.\n",
    "\n",
    "`cd Myproject`: 현재 위치한 디렉토리에 새로 만든 하위 디렉토리인 Myproject로 디렉토리 이동을 합니다."
   ]
  },
  {
   "cell_type": "markdown",
   "id": "39c148ad",
   "metadata": {},
   "source": [
    "#### 4. 가상환경 만들기\n",
    "가상환경 만드는 과정은 [qiskit documentation](https://qiskit.org/documentation/getting_started.html)을 참고하셔도 되고 밑에 제가 써놓은 설치방식을 따라서 해주셔도 됩니다. 아래는 제가 양자컴퓨팅 관련 코딩할 때 쓰는 가상환경 설정 방법입니다. 2023년 3월 기준으로 runtime이 qiskit[all]에 포함되지 않았기에 아래와 같이 진행하였습니다. Qiskit 패키지는 매우 자주 업데이트 되기에 Qiskit documentation을 자주 확인해주시는 것을 추천드립니다.\n",
    "\n",
    "가상환경 만드는 명령어는 아래와 같습니다.\n",
    "\n",
    "`conda create -n ENV_NAME python=3`"
   ]
  },
  {
   "cell_type": "code",
   "execution_count": null,
   "id": "af316a16",
   "metadata": {},
   "outputs": [],
   "source": []
  }
 ],
 "metadata": {
  "kernelspec": {
   "display_name": "Python 3 (ipykernel)",
   "language": "python",
   "name": "python3"
  },
  "language_info": {
   "codemirror_mode": {
    "name": "ipython",
    "version": 3
   },
   "file_extension": ".py",
   "mimetype": "text/x-python",
   "name": "python",
   "nbconvert_exporter": "python",
   "pygments_lexer": "ipython3",
   "version": "3.11.3"
  }
 },
 "nbformat": 4,
 "nbformat_minor": 5
}
